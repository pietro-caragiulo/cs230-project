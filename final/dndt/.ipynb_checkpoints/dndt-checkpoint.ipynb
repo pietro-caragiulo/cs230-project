{
 "cells": [
  {
   "cell_type": "code",
   "execution_count": 7,
   "metadata": {},
   "outputs": [],
   "source": [
    "import numpy as np\n",
    "import os\n",
    "import tensorflow as tf\n",
    "import iris\n",
    "import matplotlib.pyplot as plt\n",
    "plt.style.use('ggplot')\n",
    "from neural_network_decision_tree import nn_decision_tree\n",
    "from DataParser import DataParser\n",
    "from CsvParser  import CsvParser\n",
    "plt.rcParams[\"legend.facecolor\"] = 'white'\n",
    "%matplotlib inline"
   ]
  },
  {
   "cell_type": "code",
   "execution_count": 8,
   "metadata": {},
   "outputs": [
    {
     "data": {
      "text/plain": [
       "'1.15.0'"
      ]
     },
     "execution_count": 8,
     "metadata": {},
     "output_type": "execute_result"
    }
   ],
   "source": [
    "tf.__version__"
   ]
  },
  {
   "cell_type": "code",
   "execution_count": 9,
   "metadata": {},
   "outputs": [],
   "source": [
    "def convert_to_one_hot(Y, C):\n",
    "    Y = np.eye(C)[Y.reshape(-1)].T\n",
    "    return Y"
   ]
  },
  {
   "cell_type": "code",
   "execution_count": 10,
   "metadata": {},
   "outputs": [],
   "source": [
    "np.random.seed(1943)\n",
    "tf.set_random_seed(1943)"
   ]
  },
  {
   "cell_type": "code",
   "execution_count": 11,
   "metadata": {},
   "outputs": [],
   "source": [
    "data_dir        = os.path.join(os.getcwd(), '../datasets')\n",
    "signal_file     = 'signal_08mm.csv'\n",
    "background_file = 'background_08mm.csv'"
   ]
  },
  {
   "cell_type": "code",
   "execution_count": 12,
   "metadata": {},
   "outputs": [
    {
     "name": "stdout",
     "output_type": "stream",
     "text": [
      "\u001b[1;32m[INFO]:\u001b[m Reading CSV file C:\\Users\\carag\\Google Drive\\PhD\\Classes\\CS230\\project\\repo\\cs230-project\\final\\dndt\\../datasets\\background_08mm.csv found 98304 rows and 11 columns\n",
      "\u001b[1;32m[INFO]:\u001b[m Found 11 features and 98304 samples\n",
      "\u001b[1;32m[INFO]:\u001b[m Filtering data removing these columns ['vzPull', 'vy', 'vz', 'uncM', 'eleZ0', 'posZ0', 'projY']\n",
      "\u001b[1;32m[INFO]:\u001b[m Cleaning data\n",
      "\u001b[1;32m[INFO]:\u001b[m Cleaned 45873 samples \n",
      "\u001b[1;32m[INFO]:\u001b[m Reading CSV file C:\\Users\\carag\\Google Drive\\PhD\\Classes\\CS230\\project\\repo\\cs230-project\\final\\dndt\\../datasets\\signal_08mm.csv found 98304 rows and 11 columns\n",
      "\u001b[1;32m[INFO]:\u001b[m Found 11 features and 98304 samples\n",
      "\u001b[1;32m[INFO]:\u001b[m Filtering data removing these columns ['vzPull', 'vy', 'vz', 'uncM', 'eleZ0', 'posZ0', 'projY']\n",
      "\u001b[1;32m[INFO]:\u001b[m Cleaning data\n",
      "\u001b[1;32m[INFO]:\u001b[m Cleaned 4569 samples \n"
     ]
    }
   ],
   "source": [
    "background = CsvParser(os.path.join(data_dir, background_file), filter=False)\n",
    "signal     = CsvParser(os.path.join(data_dir, signal_file), filter=False)\n",
    "\n",
    "myData     = DataParser(signal=signal, background=background)"
   ]
  },
  {
   "cell_type": "code",
   "execution_count": 13,
   "metadata": {},
   "outputs": [],
   "source": [
    "# Data and Labels\n",
    "x = myData.X.T\n",
    "y = convert_to_one_hot(myData.Y, 2).T\n",
    "d = x.shape[1]"
   ]
  },
  {
   "cell_type": "code",
   "execution_count": 16,
   "metadata": {},
   "outputs": [],
   "source": [
    "num_cut = [1, 1, 1, 1, 1, 1, 1] # Hyper parameter\n",
    "num_leaf = np.prod(np.array(num_cut) + 1)\n",
    "num_class = 2"
   ]
  },
  {
   "cell_type": "code",
   "execution_count": 17,
   "metadata": {},
   "outputs": [
    {
     "name": "stderr",
     "output_type": "stream",
     "text": [
      "C:\\Users\\carag\\Miniconda3\\lib\\site-packages\\tensorflow_core\\python\\client\\session.py:1750: UserWarning: An interactive session is already active. This can cause out-of-memory errors in some cases. You must explicitly call `InteractiveSession.close()` to release resources held by the other session(s).\n",
      "  warnings.warn('An interactive session is already active. This can '\n"
     ]
    }
   ],
   "source": [
    "sess = tf.InteractiveSession()"
   ]
  },
  {
   "cell_type": "code",
   "execution_count": 18,
   "metadata": {},
   "outputs": [],
   "source": [
    "x_ph = tf.placeholder(tf.float32, [None, d])\n",
    "y_ph = tf.placeholder(tf.float32, [None, num_class])"
   ]
  },
  {
   "cell_type": "code",
   "execution_count": 19,
   "metadata": {},
   "outputs": [],
   "source": [
    "cut_points_list = [tf.Variable(tf.random_uniform([i])) for i in num_cut]\n",
    "leaf_score = tf.Variable(tf.random_uniform([num_leaf, num_class]))"
   ]
  },
  {
   "cell_type": "code",
   "execution_count": 20,
   "metadata": {},
   "outputs": [
    {
     "name": "stdout",
     "output_type": "stream",
     "text": [
      "WARNING:tensorflow:\n",
      "The TensorFlow contrib module will not be included in TensorFlow 2.0.\n",
      "For more information, please see:\n",
      "  * https://github.com/tensorflow/community/blob/master/rfcs/20180907-contrib-sunset.md\n",
      "  * https://github.com/tensorflow/addons\n",
      "  * https://github.com/tensorflow/io (for I/O related ops)\n",
      "If you depend on functionality not listed there, please file an issue.\n",
      "\n",
      "WARNING:tensorflow:From C:\\Users\\carag\\Miniconda3\\lib\\site-packages\\tensorflow_core\\python\\ops\\losses\\losses_impl.py:121: where (from tensorflow.python.ops.array_ops) is deprecated and will be removed in a future version.\n",
      "Instructions for updating:\n",
      "Use tf.where in 2.0, which has the same broadcast rule as np.where\n"
     ]
    }
   ],
   "source": [
    "y_pred = nn_decision_tree(x_ph, cut_points_list, leaf_score, temperature=0.1)\n",
    "loss = tf.reduce_mean(tf.losses.softmax_cross_entropy(logits=y_pred, onehot_labels=y_ph))"
   ]
  },
  {
   "cell_type": "code",
   "execution_count": 21,
   "metadata": {},
   "outputs": [],
   "source": [
    "opt = tf.train.AdamOptimizer(0.1)\n",
    "train_step = opt.minimize(loss)"
   ]
  },
  {
   "cell_type": "code",
   "execution_count": 22,
   "metadata": {},
   "outputs": [],
   "source": [
    "sess.run(tf.global_variables_initializer())"
   ]
  },
  {
   "cell_type": "markdown",
   "metadata": {},
   "source": [
    "### Run "
   ]
  },
  {
   "cell_type": "code",
   "execution_count": 24,
   "metadata": {},
   "outputs": [
    {
     "name": "stdout",
     "output_type": "stream",
     "text": [
      "0.16479819\n",
      "0.1647833\n",
      "0.1647749\n",
      "error rate 0.05\n"
     ]
    }
   ],
   "source": [
    "epoch = 600 # Hyper parameter\n",
    "for i in range(epoch):\n",
    "    _, loss_e = sess.run([train_step, loss], feed_dict={x_ph: x, y_ph: y})\n",
    "    if i % 200 == 0:\n",
    "        print(loss_e)\n",
    "        \n",
    "error_rate = (1 - np.mean(np.argmax(y_pred.eval(feed_dict={x_ph: x}), axis=1) == np.argmax(y, axis=1)))\n",
    "print('error rate %.2f' % error_rate)"
   ]
  },
  {
   "cell_type": "markdown",
   "metadata": {},
   "source": [
    "### Plotting"
   ]
  },
  {
   "cell_type": "code",
   "execution_count": 25,
   "metadata": {},
   "outputs": [
    {
     "name": "stdout",
     "output_type": "stream",
     "text": [
      "Background Accuracy 94.44 %\n",
      "Signal Accuracy 96.71 %\n"
     ]
    },
    {
     "data": {
      "image/png": "[encoded data removed]",
      "text/plain": [
       "<Figure size 1080x360 with 2 Axes>"
      ]
     },
     "metadata": {
      "needs_background": "light"
     },
     "output_type": "display_data"
    }
   ],
   "source": [
    "fig, ax = plt.subplots(1, 2, figsize=(15,5))\n",
    "\n",
    "nbins = 150\n",
    "\n",
    "label_pred = np.argmax(y_pred.eval(feed_dict={x_ph: x}), axis=1)\n",
    "feature_name  = 'vz'\n",
    "feature_index = myData.DATA_HEADER.index(feature_name)\n",
    "feature_max = np.max(x[:,feature_index])\n",
    "feature_min = np.min(x[:,feature_index])\n",
    "\n",
    "background      = x[label_pred  == 0, feature_index]\n",
    "background_pred = x[myData.Y[0] == 0, feature_index]\n",
    "signal          = x[myData.Y[0] == 1, feature_index]\n",
    "signal_pred     = x[label_pred  == 1, feature_index]\n",
    "thisAx = ax[0]\n",
    "b_h  = thisAx.hist(background     , range=(feature_min, feature_max), bins=nbins, alpha=0.8, label='Background')\n",
    "bp_h = thisAx.hist(background_pred, range=(feature_min, feature_max), bins=nbins, alpha=0.8, label='Background identified as background')\n",
    "\n",
    "thisAx.set_yscale('log')\n",
    "thisAx.set_xlabel(feature_name, fontsize=20)\n",
    "\n",
    "thisAx.legend(loc=1)\n",
    "\n",
    "thisAx = ax[1]\n",
    "s_h  = thisAx.hist(signal, range=(feature_min, feature_max), bins=nbins, alpha=0.8, label='Signal')\n",
    "sp_h = thisAx.hist(signal_pred, range=(feature_min, feature_max), bins=nbins, alpha=0.8, label='Signal identified as signal')\n",
    "\n",
    "\n",
    "thisAx.set_yscale('log')\n",
    "thisAx.set_xlabel(feature_name, fontsize=20)\n",
    "\n",
    "thisAx.legend(loc=1)\n",
    "\n",
    "background_error  = np.sum(b_h[0] - bp_h[0]) / np.sum(b_h[0])\n",
    "signal_error = np.sum(s_h[0] - sp_h[0]) / np.sum(s_h[0])\n",
    "print('Background Accuracy %.2f %%' % ((1-background_error) * 100))\n",
    "print('Signal Accuracy %.2f %%'     % ((1-signal_error) * 100))\n",
    "\n",
    "_ = [thisAx.set_xlabel(\"vz: Measured Decay Length (mm)\", fontsize=20) for thisAx in ax]\n",
    "\n",
    "fig.savefig('dndt.png')\n"
   ]
  },
  {
   "cell_type": "code",
   "execution_count": null,
   "metadata": {},
   "outputs": [],
   "source": []
  }
 ],
 "metadata": {
  "kernelspec": {
   "display_name": "Python 3",
   "language": "python",
   "name": "python3"
  },
  "language_info": {
   "codemirror_mode": {
    "name": "ipython",
    "version": 3
   },
   "file_extension": ".py",
   "mimetype": "text/x-python",
   "name": "python",
   "nbconvert_exporter": "python",
   "pygments_lexer": "ipython3",
   "version": "3.7.3"
  }
 },
 "nbformat": 4,
 "nbformat_minor": 1
}
