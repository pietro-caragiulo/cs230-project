{
 "cells": [
  {
   "cell_type": "code",
   "execution_count": 35,
   "metadata": {
    "pycharm": {
     "is_executing": false
    }
   },
   "outputs": [],
   "source": [
    "from parser import DataParser\n",
    "from utils import logi\n",
    "import pandas as pd\n",
    "import os\n",
    "import matplotlib.pyplot as plt\n",
    "from os.path import dirname"
   ]
  },
  {
   "cell_type": "code",
   "execution_count": 36,
   "metadata": {
    "pycharm": {
     "is_executing": false
    }
   },
   "outputs": [
    {
     "name": "stdout",
     "output_type": "stream",
     "text": [
      "/Users/pietroc/Google Drive/PhD/Classes/CS230/project/repo/cs230-project/notebooks/datasets\n"
     ]
    }
   ],
   "source": [
    "cwd = os.getcwd()\n",
    "data_dir = os.path.join(cwd, 'datasets')\n",
    "print(data_dir)"
   ]
  },
  {
   "cell_type": "code",
   "execution_count": 38,
   "metadata": {
    "pycharm": {
     "is_executing": false
    }
   },
   "outputs": [
    {
     "name": "stdout",
     "output_type": "stream",
     "text": [
      "\u001b[1;32m[INFO]:\u001b[m Reading CSV file /Users/pietroc/Google Drive/PhD/Classes/CS230/project/repo/cs230-project/notebooks/datasets/tritrig-wab-beam_100MeV_L1L1_loose.csv found 217012 rows and 31 columns\n",
      "\u001b[1;32m[INFO]:\u001b[m Found 31 features and 217012 samples\n",
      "\u001b[1;32m[INFO]:\u001b[m Reading CSV file /Users/pietroc/Google Drive/PhD/Classes/CS230/project/repo/cs230-project/notebooks/datasets/ap_100MeV_L1L1_loose.csv found 30290 rows and 31 columns\n",
      "\u001b[1;32m[INFO]:\u001b[m Found 31 features and 30290 samples\n"
     ]
    }
   ],
   "source": [
    "background = DataParser(os.path.join(data_dir, 'tritrig-wab-beam_100MeV_L1L1_loose.csv'))\n",
    "signal     = DataParser(os.path.join(cwd, 'datasets', 'ap_100MeV_L1L1_loose.csv'))\n",
    "\n"
   ]
  },
  {
   "cell_type": "code",
   "execution_count": 39,
   "metadata": {
    "pycharm": {
     "is_executing": false
    }
   },
   "outputs": [
    {
     "data": {
      "image/png": "[encoded data removed]",
      "text/plain": [
       "<Figure size 432x288 with 1 Axes>"
      ]
     },
     "metadata": {
      "needs_background": "light"
     },
     "output_type": "display_data"
    }
   ],
   "source": [
    "_ = plt.hist(background.RAW_DF['vz'], bins=50)\n",
    "_ = plt.hist(signal.RAW_DF['vz'], bins=50)\n",
    "\n",
    "plt.show()"
   ]
  },
  {
   "cell_type": "code",
   "execution_count": null,
   "metadata": {},
   "outputs": [],
   "source": []
  }
 ],
 "metadata": {
  "kernelspec": {
   "display_name": "Python 3",
   "language": "python",
   "name": "python3"
  },
  "language_info": {
   "codemirror_mode": {
    "name": "ipython",
    "version": 3
   },
   "file_extension": ".py",
   "mimetype": "text/x-python",
   "name": "python",
   "nbconvert_exporter": "python",
   "pygments_lexer": "ipython3",
   "version": "3.7.3"
  }
 },
 "nbformat": 4,
 "nbformat_minor": 2
}
